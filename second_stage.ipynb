{
 "cells": [
  {
   "cell_type": "code",
   "execution_count": null,
   "metadata": {},
   "outputs": [],
   "source": [
    "from data.datasets import SecondStageModeling\n",
    "from torch.utils.data import random_split, DataLoader\n",
    "import xgboost as xgb\n",
    "import numpy as np\n",
    "\n",
    "#Defining dataset\n",
    "dataset = SecondStageModeling()\n",
    "val_len = round(0.2*len(dataset))\n",
    "train_len = len(dataset) - val_len\n",
    "train_ds, test_ds = random_split(dataset, [train_len, val_len])\n",
    "\n",
    "#Convert to dataloaders\n",
    "train_dl = DataLoader(train_ds, 32, True)\n",
    "test_dl = DataLoader(test_ds, 32, True)\n",
    "\n",
    "# Convert PyTorch datasets to numpy arrays\n",
    "train_ds = [(np.concatenate((data['swarm_a'], data['swarm_b'],data['swarm_c'])).flatten(), data['dst'].numpy()) for batch in train_dl for data in batch]\n",
    "test_ds = [(np.concatenate((data['swarm_a'], data['swarm_b'],data['swarm_c'])).flatten(), data['dst'].numpy()) for batch in test_dl for data in batch]\n",
    "\n",
    "# Prepare data for XGBoost\n",
    "X_train, y_train = zip(*train_ds)\n",
    "X_test, y_test = zip(*test_ds)\n",
    "\n",
    "# Convert to numpy arrays\n",
    "X_train = np.concatenate(X_train, axis=0)\n",
    "y_train = np.concatenate(y_train, axis=0)\n",
    "X_test = np.concatenate(X_test, axis=0)\n",
    "y_test = np.concatenate(y_test, axis=0)\n",
    "\n",
    "# Train XGBoost model\n",
    "dtrain = xgb.DMatrix(X_train, label=y_train)\n",
    "dtest = xgb.DMatrix(X_test, label=y_test)"
   ]
  },
  {
   "cell_type": "markdown",
   "metadata": {},
   "source": [
    "# Boosting method"
   ]
  },
  {
   "cell_type": "code",
   "execution_count": null,
   "metadata": {},
   "outputs": [],
   "source": [
    "\n",
    "from sklearn.metrics import accuracy_score, f1_score, recall_score, precision_score, classification_report\n",
    "\n",
    "params = {\n",
    "    'objective': 'multi:softmax',  # for multiclass classification\n",
    "    'num_class': 4,  # number of classes in the dataset\n",
    "    'max_depth': 3,\n",
    "    'eta': 0.1,\n",
    "    'eval_metric': 'merror'  # merror for multiclass classification error\n",
    "}\n",
    "\n",
    "num_round = 100\n",
    "\n",
    "# Train the model\n",
    "model = xgb.train(params, dtrain, num_round)\n",
    "\n",
    "#Validation\n",
    "y_pred = model.predict(dtest)\n",
    "\n",
    "accuracy = accuracy_score(y_test, y_pred)\n",
    "f1 = f1_score(y_test, y_pred, average = 'weighted')\n",
    "recall = recall_score(y_test, y_pred, average = 'weighted')\n",
    "precision = precision_score(y_test, y_pred, average = 'weighted')\n"
   ]
  },
  {
   "cell_type": "code",
   "execution_count": null,
   "metadata": {},
   "outputs": [],
   "source": [
    "model.save_model('xgboost_model.model')"
   ]
  },
  {
   "cell_type": "markdown",
   "metadata": {},
   "source": [
    "## Classification report"
   ]
  },
  {
   "cell_type": "code",
   "execution_count": null,
   "metadata": {},
   "outputs": [],
   "source": [
    "print(classification_report(y_test, y_pred))"
   ]
  },
  {
   "cell_type": "markdown",
   "metadata": {},
   "source": [
    "# Random Forest"
   ]
  },
  {
   "cell_type": "code",
   "execution_count": null,
   "metadata": {},
   "outputs": [],
   "source": [
    "from sklearn.ensemble import RandomForestClassifier\n",
    "\n",
    "n_estimators = 100\n",
    "random_state = 42\n",
    "\n",
    "\n",
    "model = RandomForestClassifier(n_estimators, random_state)\n",
    "\n",
    "model.fit(X_train, y_train)\n",
    "\n",
    "y_pred = model.predict(X_test)\n",
    "\n",
    "#Validation\n",
    "accuracy = accuracy_score(y_test, y_pred)\n",
    "f1 = f1_score(y_test, y_pred, average = 'weighted')\n",
    "recall = recall_score(y_test, y_pred, average = 'weighted')\n",
    "precision = precision_score(y_test, y_pred, average = 'weighted')\n"
   ]
  },
  {
   "cell_type": "markdown",
   "metadata": {},
   "source": [
    "## Classification report"
   ]
  },
  {
   "cell_type": "code",
   "execution_count": null,
   "metadata": {},
   "outputs": [],
   "source": [
    "print(classification_report(y_test, y_pred))"
   ]
  },
  {
   "cell_type": "code",
   "execution_count": null,
   "metadata": {},
   "outputs": [],
   "source": [
    "import joblib\n",
    "joblib.dump(model, 'rf.joblib')"
   ]
  }
 ],
 "metadata": {
  "kernelspec": {
   "display_name": "Python 3",
   "language": "python",
   "name": "python3"
  },
  "language_info": {
   "codemirror_mode": {
    "name": "ipython",
    "version": 3
   },
   "file_extension": ".py",
   "mimetype": "text/x-python",
   "name": "python",
   "nbconvert_exporter": "python",
   "pygments_lexer": "ipython3",
   "version": "3.10.12"
  }
 },
 "nbformat": 4,
 "nbformat_minor": 2
}
